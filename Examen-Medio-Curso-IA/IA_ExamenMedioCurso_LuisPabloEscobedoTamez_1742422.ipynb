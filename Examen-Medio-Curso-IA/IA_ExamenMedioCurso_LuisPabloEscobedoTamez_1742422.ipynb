{
  "nbformat": 4,
  "nbformat_minor": 0,
  "metadata": {
    "colab": {
      "name": "IA_ExamenMedioCurso_LuisPabloEscobedoTamez_1742422",
      "provenance": [],
      "collapsed_sections": []
    },
    "kernelspec": {
      "name": "python3",
      "display_name": "Python 3"
    },
    "language_info": {
      "name": "python"
    }
  },
  "cells": [
    {
      "cell_type": "markdown",
      "metadata": {
        "id": "tCAkTQsZ7kxD"
      },
      "source": [
        "Exámen de Medio Curso\n",
        "\n",
        "Luis Pablo Escobedo Tamez\n",
        "\n",
        "Matrícula 1742422\n",
        "\n",
        "**Desarrollar un código en python para cada uno de los ejercicios:**\n",
        "\n",
        "\n",
        "1.1 El usuario dará un número al azar y el código calculará la suma de todos los números desde el 1 hasta el número dado por el usuario.\n",
        "Ejemplo: el usuario dió el número 4, el código deberá de dar como resultado 10."
      ]
    },
    {
      "cell_type": "code",
      "metadata": {
        "colab": {
          "base_uri": "https://localhost:8080/"
        },
        "id": "Z9j5uYBl7ixR",
        "outputId": "e4fd5583-bfde-4d9f-b162-62cbfd68f453"
      },
      "source": [
        "num=int(input(\"Ingresa un número al azar: \"))                       # Se ingresa un número y se guarda en la variable num\n",
        "suma=0                                                              # Se comienza con la variable suma con valor de 0\n",
        "for x in range(num+1):                                              # Mientras x vaya de 0 al num+1\n",
        "  suma+=x                                                           # Se iran sumando los valores de x en la variable suma\n",
        "print(\"El resultado es: \")                                          # Se imprime la variable suma\n",
        "print(suma) "
      ],
      "execution_count": 9,
      "outputs": [
        {
          "output_type": "stream",
          "name": "stdout",
          "text": [
            "Ingresa un número al azar: 4\n",
            "El resultado es: \n",
            "10\n"
          ]
        }
      ]
    },
    {
      "cell_type": "markdown",
      "metadata": {
        "id": "WpMVN-IX8F1e"
      },
      "source": [
        "1.2 Dados el inicio y final de un rango de números, guardar ese rango de números en una lista. Después, imprimir los números que son pares en la lista por medio de uno de los ciclos que vimos en clase. \n",
        "Inicio = 6, final = 31"
      ]
    },
    {
      "cell_type": "code",
      "metadata": {
        "colab": {
          "base_uri": "https://localhost:8080/"
        },
        "id": "I9qa95-08GWE",
        "outputId": "cbd36e6b-037f-4069-8df9-120cd1d9487f"
      },
      "source": [
        "lista=[]                                                                                              # Se crea la lista donde iran los numeros del 6 al 31\n",
        "listapares=[]                                                                                         # Se crea la lista donde iran los numeros pares del 6 al 31\n",
        "for x in range(6,32):                                                                                 # Dentro de los rangos establecidos\n",
        "  lista.append(x)                                                                                     # Para que cada x se van agregando \n",
        "  if x%2==0:                                                                                          # Checa el residuo para ver cuales son pares\n",
        "    listapares.append(x)                                                                              # Para que cada x par se van agregando a la lista\n",
        "print(\"La lista de los números pares de 6 hasta 31 son: \")                                            # Se imprime un mensaje\n",
        "print(listapares)                                                                                     # Se imprime la lista de los números par                                                        #"
      ],
      "execution_count": 10,
      "outputs": [
        {
          "output_type": "stream",
          "name": "stdout",
          "text": [
            "La lista de los números pares de 6 hasta 31 son: \n",
            "[6, 8, 10, 12, 14, 16, 18, 20, 22, 24, 26, 28, 30]\n"
          ]
        }
      ]
    }
  ]
}