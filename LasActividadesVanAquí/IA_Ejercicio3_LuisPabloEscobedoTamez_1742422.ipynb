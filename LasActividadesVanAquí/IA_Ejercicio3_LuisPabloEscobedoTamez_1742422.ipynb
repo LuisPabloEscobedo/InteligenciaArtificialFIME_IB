{
  "nbformat": 4,
  "nbformat_minor": 0,
  "metadata": {
    "colab": {
      "name": "IA_Ejercicio3_LuisPabloEscobedoTamez_1742422.ipynb",
      "provenance": [],
      "collapsed_sections": []
    },
    "kernelspec": {
      "display_name": "Python 3",
      "name": "python3"
    },
    "language_info": {
      "name": "python"
    }
  },
  "cells": [
    {
      "cell_type": "markdown",
      "metadata": {
        "id": "RHKMrSEdwrN8"
      },
      "source": [
        "# Actividad 3.- Ejercicios Introducción Python, 2da parte\n",
        "\n",
        "*Luis Pablo Escobedo Tamez*\n",
        "\n",
        "*Matrícula: 1742422*\n",
        "\n",
        "*Hora: V4 - V6*"
      ]
    },
    {
      "cell_type": "markdown",
      "metadata": {
        "id": "oC7PGEX79gqq"
      },
      "source": [
        "**Ejercicio 1.** \n",
        "\n",
        "1.1 Piensa en 7 comidas diferente que te gusten. Implementa un programa que pregunte por las 7 comidas, las almacene en una lista y que posteriermente imprima cada una de ellas utilizando uno de los ciclos comentados en clase. "
      ]
    },
    {
      "cell_type": "code",
      "metadata": {
        "colab": {
          "base_uri": "https://localhost:8080/"
        },
        "id": "q-7BmjJwwaT7",
        "outputId": "48c83eb0-e7f4-476c-ca94-f77e39835d98"
      },
      "source": [
        "lista=[1,2,3,4,5,6,7]                                  # Se crea una lista para después almacenar las comidas\n",
        "i = 0                                                  # Se empieza desde i=0\n",
        "while i <= 6:                                          # Mientras no se llegue hasta i=7 que se siga repitiendo el while\n",
        "  print(\"Ingresa una de tus comidas favoritas\")        # Pedir que se ingrese una comida (se pedirá 7 veces)\n",
        "  comida=input()                                       # La palabra ingresada se almacenará como comida \n",
        "  lista[i]=comida                                      # Se almacenará la palabra ingresada en la lista en el valor de i\n",
        "  i += 1                                               # i se aumentará +1\n",
        " \n",
        "print(\" \\n La comidas favoritas son\")                  # Se imprime un texto antes de poner cada una de las comidas favoritas\n",
        "i = 0                                                  # Se empieza desde i=0\n",
        "while i <= 6:                                          # Mientras no se llegue hasta i=7 que se siga repitiendo el while\n",
        "  print(lista[i])                                      # Se imprime el elemento i de la lista\n",
        "  i += 1                                               # i se aumentará +1\n",
        "\n"
      ],
      "execution_count": 38,
      "outputs": [
        {
          "output_type": "stream",
          "name": "stdout",
          "text": [
            "Ingresa una de tus comidas favoritas\n",
            "Lasaña\n",
            "Ingresa una de tus comidas favoritas\n",
            "Hamburguesa\n",
            "Ingresa una de tus comidas favoritas\n",
            "Tacos de trompo\n",
            "Ingresa una de tus comidas favoritas\n",
            "Pastel de carne\n",
            "Ingresa una de tus comidas favoritas\n",
            "Carne asada\n",
            "Ingresa una de tus comidas favoritas\n",
            "Sopa cubana\n",
            "Ingresa una de tus comidas favoritas\n",
            "Curry\n",
            " \n",
            " La comidas favoritas son\n",
            "Lasaña\n",
            "Hamburguesa\n",
            "Tacos de trompo\n",
            "Pastel de carne\n",
            "Carne asada\n",
            "Sopa cubana\n",
            "Curry\n"
          ]
        }
      ]
    },
    {
      "cell_type": "markdown",
      "metadata": {
        "id": "nwPNOtBJwpfE"
      },
      "source": [
        "1.2 Modifica el ejercicio 1.1 para que imprima cada una de las comidas favoritas junto con una oracición inicial: \"Una de mis comidas favoritas es [comida1]\"."
      ]
    },
    {
      "cell_type": "code",
      "metadata": {
        "colab": {
          "base_uri": "https://localhost:8080/"
        },
        "id": "7CXPaK8N9TyK",
        "outputId": "b053a436-4431-4be7-c953-95dac913c9e7"
      },
      "source": [
        "lista=[1,2,3,4,5,6,7]                                             # Se crea una lista para después almacenar las comidas\n",
        "i = 0                                                             # Se empieza desde i=0\n",
        "while i <= 6:                                                     # Mientras no se llegue hasta i=7 que se siga repitiendo el while\n",
        "  print(\"Ingresa una de tus comidas favoritas\")                   # Pedir que se ingrese una comida (se pedirá 7 veces)\n",
        "  comida=input()                                                  # La palabra ingresada se almacenará como comida \n",
        "  lista[i]=comida                                                 # Se almacenará la palabra ingresada en la lista en el valor de i\n",
        "  i += 1                                                          # i se aumentará +1\n",
        "\n",
        "i = 0                                                             # Se empieza desde i=0\n",
        "while i <= 6:                                                     # Mientras no se llegue hasta i=7 que se siga repitiendo el while\n",
        "  print(\"\\n Una de mis comidas favoritas es: \" + lista[i])        # Se imprimira un espacio, la frase \"Una de mis comidas favoritas es: \" y la comida almacenada en el valor i de la lista\n",
        "  i += 1                                                          # i se aumentará +1"
      ],
      "execution_count": 33,
      "outputs": [
        {
          "output_type": "stream",
          "name": "stdout",
          "text": [
            "Ingresa una de tus comidas favoritas\n",
            "Lasaña\n",
            "Ingresa una de tus comidas favoritas\n",
            "Hamburguesa\n",
            "Ingresa una de tus comidas favoritas\n",
            "Tacos de trompo\n",
            "Ingresa una de tus comidas favoritas\n",
            "Pastel de carne\n",
            "Ingresa una de tus comidas favoritas\n",
            "Carne asada\n",
            "Ingresa una de tus comidas favoritas\n",
            "Sopa cubana\n",
            "Ingresa una de tus comidas favoritas\n",
            "Curry\n",
            "\n",
            " Una de mis comidas favoritas es: Lasaña\n",
            "\n",
            " Una de mis comidas favoritas es: Hamburguesa\n",
            "\n",
            " Una de mis comidas favoritas es: Tacos de trompo\n",
            "\n",
            " Una de mis comidas favoritas es: Pastel de carne\n",
            "\n",
            " Una de mis comidas favoritas es: Carne asada\n",
            "\n",
            " Una de mis comidas favoritas es: Sopa cubana\n",
            "\n",
            " Una de mis comidas favoritas es: Curry\n"
          ]
        }
      ]
    },
    {
      "cell_type": "markdown",
      "metadata": {
        "id": "pJwWgXpF-Jg7"
      },
      "source": [
        "**Ejercicio 2.**\n",
        "\n",
        "Crear un juego de piedra, papel o tijera de dos jugadores. El programa preguntará por la opción del jugador 1 y la opción del jugador 2 y dará como resultado quien ganó el juego. "
      ]
    },
    {
      "cell_type": "code",
      "metadata": {
        "colab": {
          "base_uri": "https://localhost:8080/"
        },
        "id": "4v26yG5IIcKP",
        "outputId": "9376c2a0-a433-4d59-c268-feeefab9c1c8"
      },
      "source": [
        "print(\"¿Qué sacó el jugador 1?\")                         # Se pregunta que sacó el jugador 1\n",
        "J1=input()                                               # La palabra ingresada se almacena en J1\n",
        "if J1 == \"piedra\":                                       # Comienzo de if, si J1=piedra\n",
        "  J1=1                                                   # J1 será igual a 1\n",
        "elif J1 == \"papel\":                                      # Comienzo de elif, si J1=papel\n",
        "  J1=2                                                   # J1 será igual a 2\n",
        "elif J1 == \"tijeras\":                                    # Comienzo de elif, si J1=tijeras\n",
        "  J1=3                                                   # J1 será igual a 3\n",
        "else:                                                    # Si no se ingresa ninguna de esas 3 palabras\n",
        "  print(\"Error al momento de capturar datos\")            # Se imprimirá un texto donde diga que hubo un error\n",
        "\n",
        "print(\"¿Qué sacoó el jugador 2?\")                        # Se pregunta que sacó el jugador 2\n",
        "J2=input()                                               # La palabra ingresada se almacena en J2\n",
        "if J2 == \"piedra\":                                       # Comienzo de elif, si J2=piedra\n",
        "  J2=1                                                   # J2 será igual a 3\n",
        "elif J2 == \"papel\":                                      # Comienzo de elif, si J2=papel\n",
        "  J2=2                                                   # J2 será igual a 3\n",
        "elif J2 == \"tijeras\":                                    # Comienzo de elif, si J2=tijeras\n",
        "  J2=3                                                   # J2 será igual a 3\n",
        "else:                                                    # Si no se ingresa ninguna de esas 3 palabras\n",
        "  print(\"Error al momento de capturar datos\")            # Se imprimirá un texto donde diga que hubo un error\n",
        "\n",
        "if J1 == 1 and J2 == 1:                                  # Si J1 y J2 valen 1 \n",
        "  print(\"Empate\")                                        # Se imprime empate\n",
        "\n",
        "elif J1 == 1 and J2 == 2:                                # Si J1 vale 1 y J2 vale 2 \n",
        "  print(\"El ganador es el jugador 2\")                    # Se imprime que gano el J2\n",
        "\n",
        "elif J1 == 1 and J2 == 3:                                # Si J1 vale 1 y J2 vale 3 \n",
        "  print(\"El ganador es el jugador 1\")                    # Se imprime que gano el J1\n",
        "\n",
        "elif J1 == 2 and J2 == 1:                                # Si J1 vale 2 y J2 vale 1 \n",
        "  print(\"El ganador es el jugador 1\")                    # Se imprime que gano el J1\n",
        "\n",
        "elif J1 == 2 and J2 == 2:                                # Si J1 y J2 valen 2 \n",
        "    print(\"Empate\")                                      # Se imprime empate\n",
        "\n",
        "elif J1 == 2 and J2 == 3:                                # Si J1 vale 2 y J2 vale 3 \n",
        "  print(\"El ganador es el jugador 2\")                    # Se imprime que gano el J2\n",
        "\n",
        "elif J1 == 3 and J2 == 1:                                # Si J1 vale 3 y J2 vale 1 \n",
        "  print(\"El ganador es el jugador 2\")                    # Se imprime que gano el J2\n",
        "\n",
        "elif J1 == 3 and J2 == 2:                                # Si J1 vale 3 y J2 vale 2 \n",
        "    print(\"El ganador es el jugador 1\")                  # Se imprime que gano el J1\n",
        "\n",
        "elif J1 == 3 and J2 == 3:                                # Si J1 y J2 valen 3 \n",
        "    print(\"Empate\")                                      # Se imprime empate\n"
      ],
      "execution_count": 39,
      "outputs": [
        {
          "output_type": "stream",
          "name": "stdout",
          "text": [
            "¿Qué sacó el jugador 1?\n",
            "piedra\n",
            "¿Qué sacoó el jugador 2?\n",
            "tijeras\n",
            "El ganador es el jugador 1\n"
          ]
        }
      ]
    },
    {
      "cell_type": "markdown",
      "metadata": {
        "id": "33XC8kd-Ic2b"
      },
      "source": [
        "**Ejercicio 3.**\n",
        "\n",
        "Implementar un programa que imprima el siguiente patron:\n",
        "\n",
        "123456\n",
        "\n",
        "12345\n",
        "\n",
        "1234\n",
        "\n",
        "123\n",
        "\n",
        "12\n",
        "\n",
        "1\n",
        "\n",
        "12\n",
        "\n",
        "123\n",
        "\n",
        "1234\n",
        "\n",
        "12345\n",
        "\n",
        "123456"
      ]
    },
    {
      "cell_type": "code",
      "metadata": {
        "colab": {
          "base_uri": "https://localhost:8080/"
        },
        "id": "_XDJsaZYIdSg",
        "outputId": "91dcbbe1-cd4f-40f1-9d8f-6722664a9f8d"
      },
      "source": [
        "n=6                                       # Se comienza desde n = 6 \n",
        "for i in range(n,0,-1):                   # i(fiilas) va de 6 a 1, y se va disminuyendo de 1 en 1\n",
        "    for j in range(1,i+1):                # j(columnas) empieza desde 1 hasta i+1\n",
        "        print(j, end=\"\")                  # se imprime j en el mismo renglón\n",
        "    print()                               # después de acabar cada renglón hay que empezar en otro\n",
        "for i in range(2,7,+1):                   # i(filas) va de 2 a 7, y se va aumentando de 1 en 1\n",
        "    for j in range(1, i+1):               # j(columnas) empieza desde 1 hasta i+1\n",
        "        print(j, end=\"\")                  # se imprime j en el mismo renglón\n",
        "    print()                               # después de acabar cada renglón hay que empezar en otro\n",
        "\n",
        "\n",
        "\n"
      ],
      "execution_count": 37,
      "outputs": [
        {
          "output_type": "stream",
          "name": "stdout",
          "text": [
            "123456\n",
            "12345\n",
            "1234\n",
            "123\n",
            "12\n",
            "1\n",
            "12\n",
            "123\n",
            "1234\n",
            "12345\n",
            "123456\n"
          ]
        }
      ]
    }
  ]
}