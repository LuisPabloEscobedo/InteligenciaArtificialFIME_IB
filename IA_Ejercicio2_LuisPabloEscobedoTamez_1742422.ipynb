{
  "nbformat": 4,
  "nbformat_minor": 0,
  "metadata": {
    "colab": {
      "name": "IA_Ejercicio2_LuisPabloEscobedoTamez_1742422.ipynb",
      "provenance": [],
      "collapsed_sections": [],
      "toc_visible": true,
      "authorship_tag": "ABX9TyNn6HhqB4xs4U68zZzNBG5J",
      "include_colab_link": true
    },
    "kernelspec": {
      "name": "python3",
      "display_name": "Python 3"
    },
    "language_info": {
      "name": "python"
    }
  },
  "cells": [
    {
      "cell_type": "markdown",
      "metadata": {
        "id": "view-in-github",
        "colab_type": "text"
      },
      "source": [
        "<a href=\"https://colab.research.google.com/github/LuisPabloEscobedo/InteligenciaArtificialFIME_IB/blob/main/IA_Ejercicio2_LuisPabloEscobedoTamez_1742422.ipynb\" target=\"_parent\"><img src=\"https://colab.research.google.com/assets/colab-badge.svg\" alt=\"Open In Colab\"/></a>"
      ]
    },
    {
      "cell_type": "markdown",
      "metadata": {
        "id": "EHlh8nxB0J3W"
      },
      "source": [
        "# **Actividad 2.- Ejercicios Introducción Python**\n",
        "*Luis Pablo Escobedo Tamez*\n",
        "\n",
        "*Matrícula: 1742422*\n",
        "\n",
        "*Hora: Martes N4-N6*"
      ]
    },
    {
      "cell_type": "markdown",
      "metadata": {
        "id": "FAzcleNk1ncu"
      },
      "source": [
        "**Ejercicio 1.** Crear un programa que pregunte al usuario por su nombre, edad, una frase favorita y autor de la frase favorita. El programa deberá de imprimir un mensaje compuesto por el nombre y edad del usuario diciendo que su frase favorita es la que dió anteriormente y el autor de dicha frase es el nombre previamente dado. Aquí habrá que realizar una concatenación de variables."
      ]
    },
    {
      "cell_type": "code",
      "metadata": {
        "colab": {
          "base_uri": "https://localhost:8080/"
        },
        "id": "AJl37M6u0IUM",
        "outputId": "f099fc1a-92c7-4a91-8b4e-be720e2352fc"
      },
      "source": [
        "print(\"¿Cuál es tu nombre?\") #Pide al usuario que escriba su nombre\n",
        "nom=input() #Guarda la variable de nombre\n",
        "print(\"¿Cuál es tu edad?\") #Pide al usuario que escriba su edad\n",
        "edad=input() #Guarda la variable de edad\n",
        "print(\"¿Cuál es tu frase favorita?\") #Pide al usuario que escriba su frase favorita\n",
        "frase=input() #Guarda la variable de frase favorita\n",
        "print(\"¿Quién es el autor de tu frase favorita?\") #Pide al usuario que escriba el autor de su frase favorita\n",
        "autor=input() #Guarda la variable de autor de frase favorita\n",
        "\n",
        "print(\"\\n\" + \"La persona cuyo nombre es \" +nom + \" con \" + edad + \" de edad \" + \"cuenta que su frase favorita es \" + \"´\" + frase + \"´\" + \" del autor \" +autor) \n",
        "#Impresión de variables concatenadas"
      ],
      "execution_count": 58,
      "outputs": [
        {
          "output_type": "stream",
          "text": [
            "¿Cuál es tu nombre?\n",
            "Pablo Escobedo\n",
            "¿Cuál es tu edad?\n",
            "22\n",
            "¿Cuál es tu frase favorita?\n",
            "Yo sólo sé que no sé nada\n",
            "¿Quién es el autor de tu frase favorita?\n",
            "Sócrates\n",
            "\n",
            "La persona cuyo nombre es Pablo Escobedo con 22 de edad cuenta que su frase favorita es ´Yo sólo sé que no sé nada´ del autor Sócrates\n"
          ],
          "name": "stdout"
        }
      ]
    },
    {
      "cell_type": "markdown",
      "metadata": {
        "id": "amdfU_p80HM-"
      },
      "source": [
        "**Ejercicio 2.** Crear un programa que le pida al usuario capturar dos números enteros y dos números flotantes. Después, realizará la suma, resta, multiplicación y división, de ambos pares de números. Como resultado se deberán de obtener 8 valores. Imprimir todos estos reultados."
      ]
    },
    {
      "cell_type": "code",
      "metadata": {
        "colab": {
          "base_uri": "https://localhost:8080/"
        },
        "id": "Meohodmay06W",
        "outputId": "bddd3f40-9c29-4987-a80e-ee66d5b81d5e"
      },
      "source": [
        "\n",
        "ent1 = int(input(\"Introduce un primer número entero: \")) #Pide al usuario que escriba un primer número entero y lo guarda\n",
        "\n",
        "ent2 = int(input(\"Introduce un segundo número entero: \")) #Pide al usuario que escriba un segundo número entero y lo guarda\n",
        "\n",
        "floa1 = float(input(\"Introduce un primer número flotante: \")) #Pide al usuario que escriba un primer número flotante y lo guarda\n",
        "\n",
        "floa2 = float(input(\"Introduce un segundo número flotante: \")) #Pide al usuario que escriba un segundo número flotante y lo guarda\n",
        "\n",
        "SE = ent1 + ent2 #Suma de números enteros\n",
        "RE = ent1 - ent2 #Resta de números enteros\n",
        "ME = ent1 * ent2 #Multiplicación de números enteros\n",
        "DE = ent1 / ent2 #División de números enteros\n",
        "\n",
        "SF = floa1 + floa2 #Suma de números flotantes\n",
        "RF = floa1 - floa2 #Resta de números flotantes\n",
        "MF = floa1 * floa2 #Multiplicación de números flotantes\n",
        "DF = floa1 / floa2 #División de números flotantes\n",
        "\n",
        "print(\"\\n\" + \"La suma de los 2 numeros enteros es: \") \n",
        "print(SE) #Impresión de la suma de números enteros\n",
        "print(\"\\n\" + \"La resta de los 2 numeros enteros es: \")\n",
        "print(RE) #Impresión de la resta de números enteros\n",
        "print(\"\\n\" + \"La multiplicación de los 2 numeros enteros es: \")\n",
        "print(ME) #Impresión de la multiplicación de números enteros\n",
        "print(\"\\n\" + \"La división de los 2 numeros enteros es: \")\n",
        "print(DE) #Impresión de la división de números enteros\n",
        "print(\"\\n\") #Impresión de renglón en blanco\n",
        "\n",
        "print(\"La suma de los 2 numeros flotantes es: \")\n",
        "print(SF) #Impresión de la suma de números flotantes\n",
        "print(\"\\n\" + \"La resta de los 2 numeros flotantes es: \")\n",
        "print(RF) #Impresión de la resta de números flotantes\n",
        "print(\"\\n\" + \"La multiplicación de los 2 numeros flotantes es: \")\n",
        "print(MF) #Impresión de la multiplicación de números flotantes\n",
        "print(\"\\n\" + \"La división de los 2 numeros flotantes es: \")\n",
        "print(DF) #Impresión de la división de números flotantes\n"
      ],
      "execution_count": 59,
      "outputs": [
        {
          "output_type": "stream",
          "text": [
            "Introduce un primer número entero: 2\n",
            "Introduce un segundo número entero: 1\n",
            "Introduce un primer número flotante: 2.2\n",
            "Introduce un segundo número flotante: 1.2\n",
            "\n",
            "La suma de los 2 numeros enteros es: \n",
            "3\n",
            "\n",
            "La resta de los 2 numeros enteros es: \n",
            "1\n",
            "\n",
            "La multiplicación de los 2 numeros enteros es: \n",
            "2\n",
            "\n",
            "La división de los 2 numeros enteros es: \n",
            "2.0\n",
            "\n",
            "\n",
            "La suma de los 2 numeros flotantes es: \n",
            "3.4000000000000004\n",
            "\n",
            "La resta de los 2 numeros flotantes es: \n",
            "1.0000000000000002\n",
            "\n",
            "La multiplicación de los 2 numeros flotantes es: \n",
            "2.64\n",
            "\n",
            "La división de los 2 numeros flotantes es: \n",
            "1.8333333333333335\n"
          ],
          "name": "stdout"
        }
      ]
    },
    {
      "cell_type": "markdown",
      "metadata": {
        "id": "4lApaMzP0DAU"
      },
      "source": [
        "**Ejercicio 3.** Crear un programa que evalúe dos expresiones lógicas con `and`, dos con `or` y dos con `not`. Cada expresión deberá hacer uso de operadores de comparación."
      ]
    },
    {
      "cell_type": "code",
      "metadata": {
        "colab": {
          "base_uri": "https://localhost:8080/"
        },
        "id": "y_5CqGtcKXed",
        "outputId": "06e86f50-369d-4962-99a4-b6994d662d74"
      },
      "source": [
        "print(4 < 1 and 3 < 7) #Evaluación de dos expresiones lógicas con and\n",
        "print(5 < 10 and 1 < 2) #Evaluación de dos expresiones lógicas con and\n",
        "print(\"\\n\") #Impresión de renglón en blanco\n",
        "\n",
        "print(4 < 1 or 7 < 7) #Evaluación de dos expresiones lógicas con or\n",
        "print(5 < 10 or 1 < 2) #Evaluación de dos expresiones lógicas con or\n",
        "print(\"\\n\") #Impresión de renglón en blanco\n",
        "\n",
        "print(not (1 < 2)) #Evaluación de una expresion lógica con not\n",
        "print(not (3 < 2)) #Evaluación de una expresion lógica con not"
      ],
      "execution_count": null,
      "outputs": [
        {
          "output_type": "stream",
          "text": [
            "False\n",
            "True\n",
            "\n",
            "\n",
            "False\n",
            "True\n",
            "\n",
            "\n",
            "False\n",
            "True\n"
          ],
          "name": "stdout"
        }
      ]
    }
  ]
}